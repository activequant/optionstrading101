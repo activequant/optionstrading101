{
 "cells": [
  {
   "cell_type": "code",
   "execution_count": 15,
   "id": "ca683b47-0efa-4373-81a7-ddb946a34401",
   "metadata": {},
   "outputs": [
    {
     "name": "stdout",
     "output_type": "stream",
     "text": [
      "PNL ul: -2540.0000000000064   - entry: 71.22 current: 73.76\n",
      "PNL option: 2799.999999999999   - entry: 0.75 current: 1.15\n",
      "Total PNL: 259.9999999999927\n"
     ]
    }
   ],
   "source": [
    "underlying_entry = 71.22\n",
    "options = 7\n",
    "option_entry = 0.75\n",
    "ul_multiplier = 1000\n",
    "option_multiplier = 1000\n",
    "\n",
    "current_ul = 73.76\n",
    "current_opt = 1.15\n",
    "\n",
    "pnl_ul = (underlying_entry - current_ul) * ul_multiplier\n",
    "pnl_opt = (current_opt - option_entry) * option_multiplier * options\n",
    "print(f'PNL ul: {pnl_ul}   - entry: {underlying_entry} current: {current_ul}')\n",
    "print(f'PNL option: {pnl_opt}   - entry: {option_entry} current: {current_opt}')\n",
    "print(f'Total PNL: {pnl_ul + pnl_opt}')"
   ]
  },
  {
   "cell_type": "code",
   "execution_count": null,
   "id": "c438575c-75e1-46d8-aee9-01498b723ac5",
   "metadata": {},
   "outputs": [],
   "source": []
  }
 ],
 "metadata": {
  "kernelspec": {
   "display_name": "Python 3.7.3 64-bit",
   "language": "python",
   "name": "python37364bit31dfbc0e68ab47c2be432e09052b515f"
  },
  "language_info": {
   "codemirror_mode": {
    "name": "ipython",
    "version": 3
   },
   "file_extension": ".py",
   "mimetype": "text/x-python",
   "name": "python",
   "nbconvert_exporter": "python",
   "pygments_lexer": "ipython3",
   "version": "3.7.3"
  }
 },
 "nbformat": 4,
 "nbformat_minor": 5
}
