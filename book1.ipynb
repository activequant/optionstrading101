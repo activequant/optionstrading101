{
 "cells": [
  {
   "cell_type": "markdown",
   "id": "9c447b1e-3c8f-4bdc-aa33-153e70925b08",
   "metadata": {},
   "source": [
    "# Intro \n",
    "\n",
    "This is a test. "
   ]
  }
 ],
 "metadata": {
  "kernelspec": {
   "display_name": "Python 3 (ipykernel)",
   "language": "python",
   "name": "python3"
  },
  "language_info": {
   "codemirror_mode": {
    "name": "ipython",
    "version": 3
   },
   "file_extension": ".py",
   "mimetype": "text/x-python",
   "name": "python",
   "nbconvert_exporter": "python",
   "pygments_lexer": "ipython3",
   "version": "3.7.3"
  }
 },
 "nbformat": 4,
 "nbformat_minor": 5
}
