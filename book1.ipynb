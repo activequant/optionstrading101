{
 "cells": [
  {
   "cell_type": "markdown",
   "id": "9c447b1e-3c8f-4bdc-aa33-153e70925b08",
   "metadata": {},
   "source": [
    "# Intro \n",
    "\n",
    "This book uses the IB InSync library:  https://github.com/erdewit/ib_insync "
   ]
  },
  {
   "cell_type": "code",
   "execution_count": 1,
   "id": "eb5d1153-9e67-4e33-8d71-2370801116c1",
   "metadata": {
    "tags": []
   },
   "outputs": [
    {
     "data": {
      "text/plain": [
       "<IB connected to 127.0.0.1:4001 clientId=1236>"
      ]
     },
     "execution_count": 1,
     "metadata": {},
     "output_type": "execute_result"
    }
   ],
   "source": [
    "from ib_insync import *\n",
    "import math\n",
    "import pandas as pd\n",
    "import math\n",
    "from datetime import datetime, date, timedelta\n",
    "import time\n",
    "from collections import deque\n",
    "from contracts_defs import *\n",
    "\n",
    "util.startLoop()\n",
    "\n",
    "ib = IB()\n",
    "\n",
    "ib.connect('127.0.0.1', 4001, clientId=1236)"
   ]
  },
  {
   "cell_type": "code",
   "execution_count": 2,
   "id": "0c7fc16e-07ea-4a93-bebb-5fb1eb7128fa",
   "metadata": {
    "tags": []
   },
   "outputs": [
    {
     "name": "stdout",
     "output_type": "stream",
     "text": [
      "Identified [Index(conId=825711, symbol='DAX', exchange='DTB', currency='EUR', localSymbol='DAX')]\n",
      "Fetched [Contract(secType='FUT', conId=478022838, symbol='DAX', lastTradeDateOrContractMonth='20211217', multiplier='25', exchange='DTB', currency='EUR', localSymbol='FDAX DEC 21', tradingClass='FDAX')] price sources.\n",
      "Ref price 15653.5 ... \n"
     ]
    }
   ],
   "source": [
    "underlying = Dax().underlying\n",
    "contracts = ib.qualifyContracts(underlying)\n",
    "print(f'Identified {contracts}')\n",
    "underlying = contracts[0] # using first contract\n",
    "\n",
    "ib.reqMarketDataType(4)\n",
    "\n",
    "price_sources = ib.qualifyContracts(Dax().price_source)\n",
    "print(f'Fetched {price_sources} price sources.')\n",
    "price_source = price_sources[0]\n",
    "\n",
    "\n",
    "[ticker] = ib.reqTickers(price_source)\n",
    "ref_price = ticker.marketPrice()\n",
    "ul_value = ref_price\n",
    "print(f'Ref price {ref_price} ... ')\n"
   ]
  },
  {
   "cell_type": "markdown",
   "id": "a14f1d92-eef7-492a-8811-be91916ce6d8",
   "metadata": {},
   "source": [
    "... Pulling option chains. "
   ]
  },
  {
   "cell_type": "code",
   "execution_count": 3,
   "id": "3511c55e-cf73-4f80-8c22-a57e16b2e722",
   "metadata": {
    "tags": []
   },
   "outputs": [
    {
     "data": {
      "text/html": [
       "<div>\n",
       "<style scoped>\n",
       "    .dataframe tbody tr th:only-of-type {\n",
       "        vertical-align: middle;\n",
       "    }\n",
       "\n",
       "    .dataframe tbody tr th {\n",
       "        vertical-align: top;\n",
       "    }\n",
       "\n",
       "    .dataframe thead th {\n",
       "        text-align: right;\n",
       "    }\n",
       "</style>\n",
       "<table border=\"1\" class=\"dataframe\">\n",
       "  <thead>\n",
       "    <tr style=\"text-align: right;\">\n",
       "      <th></th>\n",
       "      <th>exchange</th>\n",
       "      <th>underlyingConId</th>\n",
       "      <th>tradingClass</th>\n",
       "      <th>multiplier</th>\n",
       "      <th>expirations</th>\n",
       "      <th>strikes</th>\n",
       "    </tr>\n",
       "  </thead>\n",
       "  <tbody>\n",
       "    <tr>\n",
       "      <th>0</th>\n",
       "      <td>DTB</td>\n",
       "      <td>825711</td>\n",
       "      <td>ODAX</td>\n",
       "      <td>5</td>\n",
       "      <td>[20211217, 20220121, 20220218, 20220318, 20220...</td>\n",
       "      <td>[1000.0, 2000.0, 2500.0, 3000.0, 3500.0, 4000....</td>\n",
       "    </tr>\n",
       "    <tr>\n",
       "      <th>1</th>\n",
       "      <td>DTB</td>\n",
       "      <td>825711</td>\n",
       "      <td>ODX4</td>\n",
       "      <td>5</td>\n",
       "      <td>[20211223]</td>\n",
       "      <td>[13850.0, 13900.0, 13950.0, 14000.0, 14050.0, ...</td>\n",
       "    </tr>\n",
       "    <tr>\n",
       "      <th>2</th>\n",
       "      <td>DTB</td>\n",
       "      <td>825711</td>\n",
       "      <td>ODX1</td>\n",
       "      <td>5</td>\n",
       "      <td>[20220107]</td>\n",
       "      <td>[13900.0, 13950.0, 14000.0, 14050.0, 14100.0, ...</td>\n",
       "    </tr>\n",
       "    <tr>\n",
       "      <th>3</th>\n",
       "      <td>DTB</td>\n",
       "      <td>825711</td>\n",
       "      <td>ODX2</td>\n",
       "      <td>5</td>\n",
       "      <td>[20211210]</td>\n",
       "      <td>[13850.0, 13900.0, 13950.0, 14000.0, 14050.0, ...</td>\n",
       "    </tr>\n",
       "    <tr>\n",
       "      <th>4</th>\n",
       "      <td>DTB</td>\n",
       "      <td>825711</td>\n",
       "      <td>ODX5</td>\n",
       "      <td>5</td>\n",
       "      <td>[20211230]</td>\n",
       "      <td>[13850.0, 13900.0, 13950.0, 14000.0, 14050.0, ...</td>\n",
       "    </tr>\n",
       "  </tbody>\n",
       "</table>\n",
       "</div>"
      ],
      "text/plain": [
       "  exchange underlyingConId tradingClass multiplier  \\\n",
       "0      DTB          825711         ODAX          5   \n",
       "1      DTB          825711         ODX4          5   \n",
       "2      DTB          825711         ODX1          5   \n",
       "3      DTB          825711         ODX2          5   \n",
       "4      DTB          825711         ODX5          5   \n",
       "\n",
       "                                         expirations  \\\n",
       "0  [20211217, 20220121, 20220218, 20220318, 20220...   \n",
       "1                                         [20211223]   \n",
       "2                                         [20220107]   \n",
       "3                                         [20211210]   \n",
       "4                                         [20211230]   \n",
       "\n",
       "                                             strikes  \n",
       "0  [1000.0, 2000.0, 2500.0, 3000.0, 3500.0, 4000....  \n",
       "1  [13850.0, 13900.0, 13950.0, 14000.0, 14050.0, ...  \n",
       "2  [13900.0, 13950.0, 14000.0, 14050.0, 14100.0, ...  \n",
       "3  [13850.0, 13900.0, 13950.0, 14000.0, 14050.0, ...  \n",
       "4  [13850.0, 13900.0, 13950.0, 14000.0, 14050.0, ...  "
      ]
     },
     "execution_count": 3,
     "metadata": {},
     "output_type": "execute_result"
    }
   ],
   "source": [
    "\n",
    "# request option chains ...\n",
    "chains = ib.reqSecDefOptParams(underlying.symbol, '', underlying.secType, underlying.conId)\n",
    "# formatting for data frame .. \n",
    "df_chains = util.df(chains)\n",
    "df_chains\n",
    "#print('original:')\n",
    "#print(chains)"
   ]
  },
  {
   "cell_type": "code",
   "execution_count": 4,
   "id": "5c17615b-c2b6-4edf-b0c3-d68e79672014",
   "metadata": {},
   "outputs": [
    {
     "name": "stdout",
     "output_type": "stream",
     "text": [
      "Minimal expiry date: 2021-12-11 16:22:00.639505\n",
      "Relevant chain OptionChain(exchange='DTB', underlyingConId='825711', tradingClass='ODAX', multiplier='5', expirations=['20211217', '20220121', '20220218', '20220318', '20220617', '20220916', '20221216', '20230616', '20231215', '20240621', '20241220', '20251219'], strikes=[1000.0, 2000.0, 2500.0, 3000.0, 3500.0, 4000.0, 4500.0, 5000.0, 5500.0, 6000.0, 6500.0, 6800.0, 7000.0, 7200.0, 7400.0, 7500.0, 7600.0, 7800.0, 8000.0, 8200.0, 8400.0, 8500.0, 8600.0, 8800.0, 8900.0, 9000.0, 9100.0, 9200.0, 9300.0, 9400.0, 9500.0, 9600.0, 9700.0, 9800.0, 9900.0, 10000.0, 10100.0, 10200.0, 10300.0, 10400.0, 10500.0, 10600.0, 10700.0, 10800.0, 10900.0, 11000.0, 11100.0, 11200.0, 11300.0, 11400.0, 11500.0, 11600.0, 11650.0, 11700.0, 11750.0, 11800.0, 11850.0, 11900.0, 11950.0, 12000.0, 12050.0, 12100.0, 12200.0, 12300.0, 12350.0, 12400.0, 12500.0, 12600.0, 12700.0, 12800.0, 12900.0, 13000.0, 13100.0, 13200.0, 13250.0, 13300.0, 13350.0, 13400.0, 13450.0, 13500.0, 13550.0, 13600.0, 13650.0, 13700.0, 13750.0, 13800.0, 13850.0, 13900.0, 13950.0, 14000.0, 14050.0, 14100.0, 14150.0, 14200.0, 14250.0, 14300.0, 14350.0, 14400.0, 14450.0, 14500.0, 14550.0, 14600.0, 14650.0, 14700.0, 14750.0, 14800.0, 14850.0, 14900.0, 14950.0, 15000.0, 15050.0, 15100.0, 15150.0, 15200.0, 15250.0, 15300.0, 15350.0, 15400.0, 15450.0, 15500.0, 15550.0, 15600.0, 15650.0, 15700.0, 15750.0, 15800.0, 15850.0, 15900.0, 15950.0, 16000.0, 16050.0, 16100.0, 16150.0, 16200.0, 16250.0, 16300.0, 16350.0, 16400.0, 16450.0, 16500.0, 16550.0, 16600.0, 16650.0, 16700.0, 16750.0, 16800.0, 16850.0, 16900.0, 16950.0, 17000.0, 17050.0, 17100.0, 17150.0, 17200.0, 17250.0, 17300.0, 17350.0, 17400.0, 17450.0, 17500.0, 17600.0, 17700.0, 17800.0, 17900.0, 18000.0, 18100.0, 18200.0, 18300.0, 18400.0, 18500.0, 18600.0, 18700.0, 18800.0, 18900.0, 19000.0, 19100.0, 19200.0, 19300.0, 19400.0, 19500.0, 19600.0, 19700.0, 19800.0, 19900.0, 20000.0, 21000.0, 22000.0])\n"
     ]
    }
   ],
   "source": [
    "# chains must be an IB chains object. \n",
    "# this will not return chains that expiry on the same day, even if min_days_to_expiry is 0 (unless called at 00:00:00)\n",
    "def get_next_chain(chains, ref_date, min_days_to_expiry):\n",
    "    #\n",
    "    minimal_date = ref_date + timedelta(days=min_days_to_expiry)\n",
    "    print(f'Minimal expiry date: {minimal_date}')\n",
    "    chain_candidate = None\n",
    "    found_min_date = None\n",
    "    for chain in chains:\n",
    "        #print(chain)\n",
    "        for expiry in chain.expirations:\n",
    "            #print(expiry)\n",
    "            exp_date = datetime.strptime(expiry, \"%Y%m%d\")\n",
    "            if exp_date > minimal_date:\n",
    "                if found_min_date == None:\n",
    "                    found_min_date = exp_date\n",
    "                    chain_candidate = chain\n",
    "                # need to check if this is sooner than before \n",
    "                if exp_date < found_min_date:\n",
    "                    found_min_date = exp_date\n",
    "                    chain_candidate = chain\n",
    "    return(chain_candidate)\n",
    "                \n",
    "\n",
    "base = datetime.today()\n",
    "opt_chain = get_next_chain(chains, base, 2)\n",
    "print(f'Relevant chain {opt_chain}')\n"
   ]
  },
  {
   "cell_type": "code",
   "execution_count": 5,
   "id": "8e074bd9-b814-4e4c-878e-8ab5aa2d1c04",
   "metadata": {},
   "outputs": [
    {
     "name": "stdout",
     "output_type": "stream",
     "text": [
      "Ref price: 15653.5 lower strikes: deque([15550.0, 15600.0, 15650.0], maxlen=3) and upper strikes: [15700.0, 15750.0, 15800.0]\n"
     ]
    }
   ],
   "source": [
    "\n",
    "# let's assemble the relevant strikes. \n",
    "num_of_strikes_above_and_below_ref_price = 3\n",
    "lower_strikes = deque([], maxlen=num_of_strikes_above_and_below_ref_price)\n",
    "upper_strikes = [] # deque([], maxlen=num_of_strikes_above_and_below_ref_price)\n",
    "\n",
    "# strikes is an ordered list where lowest strikes come first\n",
    "for strike in opt_chain.strikes:\n",
    "    # \n",
    "    if strike<ul_value:\n",
    "        lower_strikes.append(strike)\n",
    "    if strike>ul_value:\n",
    "        upper_strikes.append(strike)\n",
    "        if len(upper_strikes)==num_of_strikes_above_and_below_ref_price:\n",
    "            break\n",
    "    \n",
    "print(f'Ref price: {ul_value} lower strikes: {lower_strikes} and upper strikes: {upper_strikes}')\n"
   ]
  },
  {
   "cell_type": "code",
   "execution_count": 6,
   "id": "c086a809-3056-4fd9-912d-7bfa50bfca67",
   "metadata": {
    "tags": []
   },
   "outputs": [
    {
     "name": "stdout",
     "output_type": "stream",
     "text": [
      "Qualified 6 valid lower contracts\n",
      "Qualified 6 valid upper contracts\n"
     ]
    }
   ],
   "source": [
    "rights = ['C','P']\n",
    "\n",
    "lower_contracts = [Option(symbol=underlying.symbol, lastTradeDateOrContractMonth=opt_chain.expirations[0], strike=strike, right=right, exchange=opt_chain.exchange, tradingClass=opt_chain.tradingClass, multiplier=opt_chain.multiplier)\n",
    "        for right in rights\n",
    "        for strike in lower_strikes]\n",
    "lower_contracts = ib.qualifyContracts(*lower_contracts)\n",
    "\n",
    "upper_contracts = [Option(symbol=underlying.symbol, lastTradeDateOrContractMonth=opt_chain.expirations[0], strike=strike, right=right, exchange=opt_chain.exchange, tradingClass=opt_chain.tradingClass, multiplier=opt_chain.multiplier)\n",
    "        for right in rights\n",
    "        for strike in upper_strikes]\n",
    "upper_contracts = ib.qualifyContracts(*upper_contracts)\n",
    "\n",
    "print(f'Qualified {len(lower_contracts)} valid lower contracts')\n",
    "print(f'Qualified {len(upper_contracts)} valid upper contracts')\n"
   ]
  },
  {
   "cell_type": "code",
   "execution_count": 7,
   "id": "f5ada2f9-57c5-4352-bf30-1825f70f9f1d",
   "metadata": {
    "jupyter": {
     "source_hidden": true
    },
    "tags": []
   },
   "outputs": [],
   "source": [
    "if False:\n",
    "    strikes = [strike for strike in chain.strikes]\n",
    "    expirations = sorted(exp for exp in chain.expirations)[:1]\n",
    "    rights = ['P', 'C']\n",
    "\n",
    "    print('Assembling unqualified contracts ...')\n",
    "    unqualified_contracts = [Option(symbol=underlying.symbol, lastTradeDateOrContractMonth=expiration, strike=strike, right=right, exchange=chain.exchange, tradingClass=chain.tradingClass)\n",
    "            for right in rights\n",
    "            for expiration in expirations\n",
    "            for strike in strikes]\n",
    "\n",
    "\n",
    "    print(f'... {len(unqualified_contracts)}')\n",
    "\n",
    "    def chunks(lst, n):\n",
    "        \"\"\"Yield successive n-sized chunks from lst.\"\"\"\n",
    "        for i in range(0, len(lst), n):\n",
    "            yield lst[i:i + n]\n",
    "\n",
    "\n",
    "    contract_chunks = chunks(unqualified_contracts, 100)\n",
    "    #print(list(contract_chunks))\n",
    "\n",
    "    contracts = []\n",
    "\n",
    "    for chunk in contract_chunks: \n",
    "        print('Processing chunk ...')\n",
    "        qualified_contracts = ib.qualifyContracts(*chunk)\n",
    "        for c in qualified_contracts:\n",
    "            contracts.append(c)\n",
    "        print('10 seconds sleep ...')\n",
    "        time.sleep(10)\n",
    "\n",
    "    print(f'Fecthed {len(contracts)} contracts ...')"
   ]
  },
  {
   "cell_type": "code",
   "execution_count": 8,
   "id": "0072383c-624c-4fd5-8ac5-89af5693751d",
   "metadata": {
    "tags": []
   },
   "outputs": [],
   "source": [
    "if False:\n",
    "    contract_chunks = chunks(contracts, 30)\n",
    "    #print(list(contract_chunks))\n",
    "\n",
    "    tickers = []\n",
    "\n",
    "    for chunk in contract_chunks: \n",
    "        print('Processing chunk ...')\n",
    "        for c in chunk: \n",
    "            t = ib.reqMktData(c, snapshot = True)\n",
    "            tickers.append(t)\n",
    "        #ticker_res = ib.reqTickers(*chunk)\n",
    "        #for c in ticker_res:\n",
    "        #    tickers.append(c)\n",
    "        print('0.5 seconds sleep ...')\n",
    "        time.sleep(0.5)\n",
    "\n",
    "    "
   ]
  },
  {
   "cell_type": "code",
   "execution_count": 21,
   "id": "cbe0835f-b66c-4144-bab9-b332eb85d6b5",
   "metadata": {
    "tags": []
   },
   "outputs": [
    {
     "name": "stdout",
     "output_type": "stream",
     "text": [
      "Event<pendingTickersEvent, []>\n",
      "0.1 seconds sleep ...\n",
      "Event<pendingTickersEvent, []>\n",
      "0.1 seconds sleep ...\n",
      "Event<pendingTickersEvent, []>\n",
      "0.1 seconds sleep ...\n",
      "Event<pendingTickersEvent, []>\n",
      "0.1 seconds sleep ...\n",
      "Event<pendingTickersEvent, []>\n",
      "0.1 seconds sleep ...\n",
      "Event<pendingTickersEvent, []>\n",
      "0.1 seconds sleep ...\n",
      "Event<pendingTickersEvent, []>\n",
      "0.1 seconds sleep ...\n",
      "Event<pendingTickersEvent, []>\n",
      "0.1 seconds sleep ...\n",
      "Event<pendingTickersEvent, []>\n",
      "0.1 seconds sleep ...\n",
      "Event<pendingTickersEvent, []>\n",
      "0.1 seconds sleep ...\n",
      "Event<pendingTickersEvent, []>\n",
      "0.1 seconds sleep ...\n",
      "Event<pendingTickersEvent, []>\n",
      "0.1 seconds sleep ...\n",
      "Event<pendingTickersEvent, []>\n",
      "Event<pendingTickersEvent, []>\n",
      "12\n",
      "Ticker(contract=Option(conId=515886571, symbol='DAX', lastTradeDateOrContractMonth='20211217', strike=15550.0, right='C', multiplier='5', exchange='DTB', currency='EUR', localSymbol='C ODAX DEC 21 1555000', tradingClass='ODAX'), time=datetime.datetime(2021, 12, 9, 15, 22, 13, 471573, tzinfo=datetime.timezone.utc), bid=228.5, bidSize=75, ask=236.0, askSize=75, last=215.0, lastSize=49, volume=99, high=230.5, low=215.0, close=275.2, bidGreeks=OptionComputation(impliedVol=0.18347848493062427, delta=0.5983873640705426, optPrice=228.5, pvDividend=0.0, gamma=0.0009177698610000989, vega=8.882527718591195, theta=-10.232747316901705, undPrice=None), askGreeks=OptionComputation(impliedVol=0.19222461790021528, delta=0.594482921697469, optPrice=236.5, pvDividend=0.0, gamma=0.0008781708143583402, vega=8.90442007711567, theta=-10.754708946409854, undPrice=None), lastGreeks=OptionComputation(impliedVol=0.18340541713537, delta=0.5984216084273187, optPrice=215.0, pvDividend=0.0, gamma=0.0009181152353687657, vega=8.882331707565974, theta=-10.22838128057391, undPrice=None), modelGreeks=OptionComputation(impliedVol=0.18713602976567986, delta=0.5967085198707227, optPrice=224.9685013724428, pvDividend=0.0, gamma=0.0009007970222545422, vega=8.892051876172813, theta=-10.451179873517686, undPrice=None))\n",
      "Ticker(contract=Option(conId=390051816, symbol='DAX', lastTradeDateOrContractMonth='20211217', strike=15600.0, right='C', multiplier='5', exchange='DTB', currency='EUR', localSymbol='C ODAX DEC 21 1560000', tradingClass='ODAX'), time=datetime.datetime(2021, 12, 9, 15, 22, 13, 471705, tzinfo=datetime.timezone.utc), bid=194.5, bidSize=325, ask=202.5, askSize=75, last=190.5, lastSize=36, volume=134, high=234.0, low=182.0, close=240.9, bidGreeks=OptionComputation(impliedVol=0.17736058432937366, delta=0.5531067856505841, optPrice=194.5, pvDividend=0.0, gamma=0.0009706736590462376, vega=9.081299311007054, theta=-10.121237646686806, undPrice=None), askGreeks=OptionComputation(impliedVol=0.18592529174512692, delta=0.5511597967386075, optPrice=202.5, pvDividend=0.0, gamma=0.0009265568056617663, vega=9.087159615200799, theta=-10.62348936590517, undPrice=None), lastGreeks=OptionComputation(impliedVol=0.18328440064812154, delta=0.5517383928094708, optPrice=190.5, pvDividend=0.0, gamma=0.0009397295368294875, vega=9.085441066637902, theta=-10.468662209944466, undPrice=None), modelGreeks=OptionComputation(impliedVol=0.1806749778663639, delta=0.5523287954528677, optPrice=190.94037143125792, pvDividend=0.0, gamma=0.000953115604874234, vega=9.083667414327419, theta=-10.315645496828106, undPrice=None))\n",
      "Ticker(contract=Option(conId=515886574, symbol='DAX', lastTradeDateOrContractMonth='20211217', strike=15650.0, right='C', multiplier='5', exchange='DTB', currency='EUR', localSymbol='C ODAX DEC 21 1565000', tradingClass='ODAX'), time=datetime.datetime(2021, 12, 9, 15, 22, 13, 471705, tzinfo=datetime.timezone.utc), bid=165.0, bidSize=75, ask=169.5, askSize=128, last=166.5, lastSize=5, volume=12, high=185.5, low=166.5, close=208.6, bidGreeks=OptionComputation(impliedVol=0.1726341873559598, delta=0.5040503252093886, optPrice=164.0, pvDividend=0.0, gamma=0.0010061252783071714, vega=9.162131058195227, theta=-9.947804404335082, undPrice=None), askGreeks=OptionComputation(impliedVol=0.17952992688535385, delta=0.5042906893631416, optPrice=170.5, pvDividend=0.0, gamma=0.0009674739401260491, vega=9.1620733469329, theta=-10.349669086222626, undPrice=None), lastGreeks=OptionComputation(impliedVol=0.17581219028098286, delta=0.5041614761709043, optPrice=166.5, pvDividend=0.0, gamma=0.00098793560010614, vega=9.162104784364931, theta=-10.133010554372657, undPrice=None), modelGreeks=OptionComputation(impliedVol=0.17544162479816702, delta=0.5041485494506001, optPrice=160.25384715394839, pvDividend=0.0, gamma=0.0009900226387604863, vega=9.162107876529785, theta=-10.111414993387067, undPrice=None))\n",
      "Ticker(contract=Option(conId=515886746, symbol='DAX', lastTradeDateOrContractMonth='20211217', strike=15550.0, right='P', multiplier='5', exchange='DTB', currency='EUR', localSymbol='P ODAX DEC 21 1555000', tradingClass='ODAX'), time=datetime.datetime(2021, 12, 9, 15, 22, 13, 471796, tzinfo=datetime.timezone.utc), bid=127.0, bidSize=126, ask=132.0, askSize=129, last=144.0, lastSize=1, volume=11, high=144.0, low=113.5, close=137.2, bidGreeks=OptionComputation(impliedVol=0.1846020656491514, delta=-0.40213569303777785, optPrice=126.5, pvDividend=0.0, gamma=0.0009124904231773315, vega=8.885512986838602, theta=-10.528288719913247, undPrice=None), askGreeks=OptionComputation(impliedVol=0.19006915795557958, delta=-0.4045894618655773, optPrice=132.0, pvDividend=0.0, gamma=0.0008876190197249559, vega=8.899300768874697, theta=-10.854603969885998, undPrice=None), lastGreeks=OptionComputation(impliedVol=0.187673575871924, delta=-0.40353250889439685, optPrice=144.0, pvDividend=0.0, gamma=0.0008983536400436359, vega=8.893405513425698, theta=-10.711679261307957, undPrice=None), modelGreeks=OptionComputation(impliedVol=0.18713602976567986, delta=-0.4032914801292773, optPrice=125.95380324008447, pvDividend=0.0, gamma=0.0009007970222545422, vega=8.892051876172813, theta=-10.679595436372917, undPrice=None))\n",
      "Ticker(contract=Option(conId=390051833, symbol='DAX', lastTradeDateOrContractMonth='20211217', strike=15600.0, right='P', multiplier='5', exchange='DTB', currency='EUR', localSymbol='P ODAX DEC 21 1560000', tradingClass='ODAX'), time=datetime.datetime(2021, 12, 9, 15, 22, 13, 471849, tzinfo=datetime.timezone.utc), bid=142.5, bidSize=75, ask=148.0, askSize=76, last=145.0, lastSize=10, volume=317, high=170.5, low=124.5, close=152.9, bidGreeks=OptionComputation(impliedVol=0.1784534646703776, delta=-0.4471533126753082, optPrice=143.0, pvDividend=0.0, gamma=0.0009648136036623315, vega=9.08209492898966, theta=-10.414497797415775, undPrice=None), askGreeks=OptionComputation(impliedVol=0.18380661898579673, delta=-0.4483775054065968, optPrice=148.0, pvDividend=0.0, gamma=0.0009370953089993752, vega=9.085786864652427, theta=-10.728430987159753, undPrice=None), lastGreeks=OptionComputation(impliedVol=0.18093817686440847, delta=-0.447731621355975, optPrice=145.0, pvDividend=0.0, gamma=0.0009517482834754571, vega=9.083849844541424, theta=-10.560231113265763, undPrice=None), modelGreeks=OptionComputation(impliedVol=0.1806749778663639, delta=-0.4476712045471323, optPrice=141.93144597371423, pvDividend=0.0, gamma=0.000953115604874234, vega=9.083667414327419, theta=-10.544795514869366, undPrice=None))\n",
      "Ticker(contract=Option(conId=515886751, symbol='DAX', lastTradeDateOrContractMonth='20211217', strike=15650.0, right='P', multiplier='5', exchange='DTB', currency='EUR', localSymbol='P ODAX DEC 21 1565000', tradingClass='ODAX'), time=datetime.datetime(2021, 12, 9, 15, 22, 13, 471849, tzinfo=datetime.timezone.utc), bid=161.5, bidSize=75, ask=167.0, askSize=1, last=179.0, lastSize=4, volume=49, high=179.0, low=143.0, close=170.6, halted=0.0, bidGreeks=OptionComputation(impliedVol=0.17264948191268176, delta=-0.49594913826296005, optPrice=161.5, pvDividend=0.0, gamma=0.0010060361346163913, vega=9.162130933079393, theta=-10.178580210136507, undPrice=None), askGreeks=OptionComputation(impliedVol=0.1784843359747687, delta=-0.4957455651517537, optPrice=167.0, pvDividend=0.0, gamma=0.0009731425104815988, vega=9.162082264633355, theta=-10.518619876119159, undPrice=None), lastGreeks=OptionComputation(impliedVol=0.18361248569300936, delta=-0.4955683696188803, optPrice=179.0, pvDividend=0.0, gamma=0.0009459588449560767, vega=9.162037960060573, theta=-10.817470330386794, undPrice=None), modelGreeks=OptionComputation(impliedVol=0.17544162479816702, delta=-0.49585145054939994, optPrice=161.25069437122121, pvDividend=0.0, gamma=0.0009900226387604863, vega=9.162107876529785, theta=-10.341299466614357, undPrice=None))\n",
      "Ticker(contract=Option(conId=477825226, symbol='DAX', lastTradeDateOrContractMonth='20211217', strike=15700.0, right='C', multiplier='5', exchange='DTB', currency='EUR', localSymbol='C ODAX DEC 21 1570000', tradingClass='ODAX'), time=datetime.datetime(2021, 12, 9, 15, 22, 13, 471993, tzinfo=datetime.timezone.utc), bid=136.0, bidSize=76, ask=141.0, askSize=126, last=137.0, lastSize=10, volume=60, high=156.0, low=127.5, close=178.7, bidGreeks=OptionComputation(impliedVol=0.16799213597429055, delta=0.4523810918072561, optPrice=136.0, pvDividend=0.0, gamma=0.0010266057969883584, vega=9.097253544009561, theta=-9.61940091986468, undPrice=None), askGreeks=OptionComputation(impliedVol=0.1733247410854367, delta=0.4541448397565778, optPrice=141.0, pvDividend=0.0, gamma=0.0009955409284378538, vega=9.102010118013803, theta=-9.932901787029177, undPrice=None), lastGreeks=OptionComputation(impliedVol=0.17050308767599984, delta=0.45322400454679557, optPrice=137.0, pvDividend=0.0, gamma=0.001011742509022585, vega=9.09954925554277, theta=-9.767036034435684, undPrice=None), modelGreeks=OptionComputation(impliedVol=0.17063050013221137, delta=0.4532661776898904, optPrice=132.4109007028987, pvDividend=0.0, gamma=0.001010999666237851, vega=9.099663034036167, theta=-9.774526587167092, undPrice=None))\n",
      "Ticker(contract=Option(conId=515886576, symbol='DAX', lastTradeDateOrContractMonth='20211217', strike=15750.0, right='C', multiplier='5', exchange='DTB', currency='EUR', localSymbol='C ODAX DEC 21 1575000', tradingClass='ODAX'), time=datetime.datetime(2021, 12, 9, 15, 22, 13, 472069, tzinfo=datetime.timezone.utc), bid=111.0, bidSize=75, ask=115.0, askSize=75, last=110.0, lastSize=1, volume=15, high=131.0, low=101.5, close=151.1, bidGreeks=OptionComputation(impliedVol=0.16378579520398212, delta=0.39911562931374706, optPrice=111.0, pvDividend=0.0, gamma=0.0010264419279173115, vega=8.86805242413379, theta=-9.149072886230464, undPrice=None), askGreeks=OptionComputation(impliedVol=0.16814767998502644, delta=0.4019226637816663, optPrice=115.0, pvDividend=0.0, gamma=0.0010016469153074686, vega=8.884299115728696, theta=-9.411918986500266, undPrice=None), lastGreeks=OptionComputation(impliedVol=0.16526124717314208, delta=0.4000804101319994, optPrice=110.0, pvDividend=0.0, gamma=0.0010179244721189007, vega=8.873689247328024, theta=-9.238027281611618, undPrice=None), modelGreeks=OptionComputation(impliedVol=0.166027070093845, delta=0.4005749425135664, optPrice=107.39569250747397, pvDividend=0.0, gamma=0.0010135566210625463, vega=8.876557147417655, theta=-9.284180481771457, undPrice=None))\n",
      "Ticker(contract=Option(conId=390051821, symbol='DAX', lastTradeDateOrContractMonth='20211217', strike=15800.0, right='C', multiplier='5', exchange='DTB', currency='EUR', localSymbol='C ODAX DEC 21 1580000', tradingClass='ODAX'), time=datetime.datetime(2021, 12, 9, 15, 22, 13, 472128, tzinfo=datetime.timezone.utc), bid=89.0, bidSize=75, ask=92.5, askSize=75, last=90.5, lastSize=20, volume=502, high=120.0, low=81.0, close=126.2, bidGreeks=OptionComputation(impliedVol=0.15990618095255243, delta=0.34550424937246027, optPrice=89.0, pvDividend=0.0, gamma=0.0010037547857081964, vega=8.466628702402211, theta=-8.5339077495899, undPrice=None), askGreeks=OptionComputation(impliedVol=0.16388389615118748, delta=0.3492809211369174, optPrice=92.5, pvDividend=0.0, gamma=0.0009833290674789831, vega=8.500662855066146, theta=-8.78279778026268, undPrice=None), lastGreeks=OptionComputation(impliedVol=0.16240914637171322, delta=0.3478999177141162, optPrice=90.5, pvDividend=0.0, gamma=0.0009908174635684934, vega=8.488320531026734, theta=-8.69060079054281, undPrice=None), modelGreeks=OptionComputation(impliedVol=0.1615027231536597, delta=0.34703998018414717, optPrice=85.2219720535334, pvDividend=0.0, gamma=0.000995469197846955, vega=8.480575218582466, theta=-8.633887645748777, undPrice=None))\n",
      "Ticker(contract=Option(conId=477825387, symbol='DAX', lastTradeDateOrContractMonth='20211217', strike=15700.0, right='P', multiplier='5', exchange='DTB', currency='EUR', localSymbol='P ODAX DEC 21 1570000', tradingClass='ODAX'), time=datetime.datetime(2021, 12, 9, 15, 22, 13, 472176, tzinfo=datetime.timezone.utc), bid=182.0, bidSize=225, ask=189.5, askSize=75, last=198.0, lastSize=1, volume=40, high=205.0, low=160.5, close=190.7, bidGreeks=OptionComputation(impliedVol=0.16640078474173398, delta=-0.548165031294626, optPrice=182.0, pvDividend=0.0, gamma=0.0010362516419678625, vega=9.095744160357095, theta=-9.756437083543396, undPrice=None), askGreeks=OptionComputation(impliedVol=0.17439987520094985, delta=-0.5455113723863336, optPrice=189.5, pvDividend=0.0, gamma=0.0009895021531391313, vega=9.102916266273574, theta=-10.226710426421857, undPrice=None), lastGreeks=OptionComputation(impliedVol=0.1718635228292428, delta=-0.5463286155863454, optPrice=198.0, pvDividend=0.0, gamma=0.0010038663277546578, vega=9.100750982981404, theta=-10.077630516670029, undPrice=None), modelGreeks=OptionComputation(impliedVol=0.17063050013221137, delta=-0.5467338223101096, optPrice=183.41352059498524, pvDividend=0.0, gamma=0.001010999666237851, vega=9.099663034036167, theta=-10.005145515580411, undPrice=None))\n",
      "Ticker(contract=Option(conId=515886755, symbol='DAX', lastTradeDateOrContractMonth='20211217', strike=15750.0, right='P', multiplier='5', exchange='DTB', currency='EUR', localSymbol='P ODAX DEC 21 1575000', tradingClass='ODAX'), time=datetime.datetime(2021, 12, 9, 15, 22, 13, 472226, tzinfo=datetime.timezone.utc), bid=206.5, bidSize=225, ask=214.0, askSize=175, close=213.2, bidGreeks=OptionComputation(impliedVol=0.16105838539913128, delta=-0.6027106206359716, optPrice=205.5, pvDividend=0.0, gamma=0.001042550220005894, vega=8.857230762601997, theta=-9.215868596261616, undPrice=None), askGreeks=OptionComputation(impliedVol=0.1697840589929149, delta=-0.5970585712329664, optPrice=214.0, pvDividend=0.0, gamma=0.0009926384964380744, vega=8.890079821861848, theta=-9.74178117988156, undPrice=None), lastGreeks=OptionComputation(impliedVol=None, delta=None, optPrice=None, pvDividend=0.0, gamma=None, vega=None, theta=None, undPrice=None), modelGreeks=OptionComputation(impliedVol=0.166027070093845, delta=-0.5994250574864336, optPrice=208.404085074377, pvDividend=0.0, gamma=0.0010135566210625463, vega=8.876557147417655, theta=-9.515533865370806, undPrice=None))\n",
      "Ticker(contract=Option(conId=390051836, symbol='DAX', lastTradeDateOrContractMonth='20211217', strike=15800.0, right='P', multiplier='5', exchange='DTB', currency='EUR', localSymbol='P ODAX DEC 21 1580000', tradingClass='ODAX'), time=datetime.datetime(2021, 12, 9, 15, 22, 13, 472293, tzinfo=datetime.timezone.utc), bid=234.5, bidSize=75, ask=242.0, askSize=325, last=246.5, lastSize=1, volume=41, high=251.0, low=208.0, close=238.2, bidGreeks=OptionComputation(impliedVol=0.15762216385838695, delta=-0.6567407484038661, optPrice=233.5, pvDividend=0.0, gamma=0.0010158157791290592, vega=8.445976610358434, theta=-8.622765673040403, undPrice=None), askGreeks=OptionComputation(impliedVol=0.1661462471298092, delta=-0.6486430672504326, optPrice=242.0, pvDividend=0.0, gamma=0.0009720310586036634, vega=8.518993999073931, theta=-9.156144058933847, undPrice=None), lastGreeks=OptionComputation(impliedVol=0.16620775095001383, delta=-0.6485873334978918, optPrice=246.5, pvDividend=0.0, gamma=0.000971727078438501, vega=8.519482446186716, theta=-9.159981345403473, undPrice=None), modelGreeks=OptionComputation(impliedVol=0.1615027231536597, delta=-0.6529600198158528, optPrice=236.23613729525113, pvDividend=0.0, gamma=0.000995469197846955, vega=8.480575218582466, theta=-8.865975484534156, undPrice=None))\n"
     ]
    }
   ],
   "source": [
    "\n",
    "tickers = []\n",
    "contracts = []\n",
    "contracts += lower_contracts\n",
    "contracts += upper_contracts\n",
    "\n",
    "for c in contracts:\n",
    "    print(ib.pendingTickersEvent)\n",
    "    t = ib.reqMktData(c, snapshot = True)\n",
    "    tickers.append(t)\n",
    "    print('0.1 seconds sleep ...')\n",
    "    #time.sleep(0.1)\n",
    "\n",
    "    \n",
    "print(ib.pendingTickersEvent)\n",
    "#for tickers in ib.pendingTickersEvent:\n",
    "#    for ticker in tickers:\n",
    "#        print(ticker)\n",
    "time.sleep(10)\n",
    "print(ib.pendingTickersEvent)\n",
    "print(len(tickers))\n",
    "for t in tickers: \n",
    "    print(t)"
   ]
  },
  {
   "cell_type": "code",
   "execution_count": 22,
   "id": "8ac97fc0-7e9c-4751-ad73-468e64c7c469",
   "metadata": {
    "tags": []
   },
   "outputs": [
    {
     "name": "stdout",
     "output_type": "stream",
     "text": [
      "222.25\n",
      "189.5\n",
      "158.75\n",
      "134.5\n",
      "151.5\n",
      "171.0\n",
      "131.25\n",
      "106.25\n",
      "85.25\n",
      "193.25\n",
      "218.75\n",
      "247.5\n"
     ]
    }
   ],
   "source": [
    "import QuantLib as ql\n",
    "\n",
    "import pandas as pd\n",
    "imp_vol_df = pd.DataFrame(columns=['strike', 'expiration', 'right', 'imp_vol_ql', 'imp_vol_ib', 'mid_point', 'delta','gamma', 'vega','theta'])\n",
    "for t in tickers:   \n",
    "    try:\n",
    "        mp = (t.bid+t.ask)/2\n",
    "        mq = (t.bidSize + t.askSize)/2\n",
    "        print(mp)\n",
    "        if mp>0:\n",
    "            exercise = ql.EuropeanExercise(ql.DateParser.parseFormatted(t.contract.lastTradeDateOrContractMonth, '%Y%m%d'))\n",
    "            \n",
    "            # ok, i have a full quote ... \n",
    "            K = t.contract.strike\n",
    "            T = ql.Actual360().yearFraction(ql.DateParser.parseFormatted('20211203', '%Y%m%d'), ql.DateParser.parseFormatted(t.contract.lastTradeDateOrContractMonth, '%Y%m%d'))\n",
    "            N = max(200, int(1000 * T))\n",
    "            M = max(100, int(200 *T))\n",
    "        \n",
    "            imp_vol = 0\n",
    "            \n",
    "            if t.contract.right == 'P':                \n",
    "                payoff = ql.PlainVanillaPayoff(ql.Option.Put, K)\n",
    "                option = ql.EuropeanOption(payoff,exercise)\n",
    "            \n",
    "            if t.contract.right == 'C':\n",
    "                payoff = ql.PlainVanillaPayoff(ql.Option.Call, K)\n",
    "                option = ql.EuropeanOption(payoff,exercise)\n",
    "                \n",
    "            S = ql.QuoteHandle(ql.SimpleQuote(ul_value))\n",
    "            r = ql.YieldTermStructureHandle(ql.FlatForward(0, ql.TARGET(), 0.03, ql.Actual360()))\n",
    "            q = ql.YieldTermStructureHandle(ql.FlatForward(0, ql.TARGET(), 0.01, ql.Actual360()))\n",
    "            sigma = ql.BlackVolTermStructureHandle(ql.BlackConstantVol(0, ql.TARGET(), 0.20, ql.Actual360()))\n",
    "            process = ql.BlackScholesMertonProcess(S,q,r,sigma)\n",
    "            engine = ql.FdBlackScholesVanillaEngine(process, M, N, 0, ql.FdmSchemeDesc.ImplicitEuler())\n",
    "\n",
    "            imp_vol = option.impliedVolatility(mp, process)\n",
    "            option.setPricingEngine(engine)    \n",
    "\n",
    "            imp_vol_ib = 0\n",
    "            delta = option.delta()\n",
    "            \n",
    "\n",
    "            imp_vol_df = imp_vol_df.append({'strike':t.contract.strike, 'expiration':t.contract.lastTradeDateOrContractMonth, 'right':t.contract.right, \n",
    "                                            'imp_vol_ql':imp_vol, 'imp_vol_ib':0,'mid_point':mp,\n",
    "                                            'delta':option.delta(),'gamma':option.gamma(),'theta':option.theta()\n",
    "                                           }, ignore_index=True)\n",
    "        \n",
    "    except Exception as inst:\n",
    "        print(type(inst))    # the exception instance\n",
    "        print(inst.args)     # arguments stored in .args\n",
    "        print(inst)     \n",
    "        print(t)\n"
   ]
  },
  {
   "cell_type": "code",
   "execution_count": 23,
   "id": "ce740312-57ef-42fa-bbfe-445c7c8b1f9e",
   "metadata": {},
   "outputs": [
    {
     "data": {
      "text/html": [
       "<div>\n",
       "<style scoped>\n",
       "    .dataframe tbody tr th:only-of-type {\n",
       "        vertical-align: middle;\n",
       "    }\n",
       "\n",
       "    .dataframe tbody tr th {\n",
       "        vertical-align: top;\n",
       "    }\n",
       "\n",
       "    .dataframe thead th {\n",
       "        text-align: right;\n",
       "    }\n",
       "</style>\n",
       "<table border=\"1\" class=\"dataframe\">\n",
       "  <thead>\n",
       "    <tr style=\"text-align: right;\">\n",
       "      <th></th>\n",
       "      <th>strike</th>\n",
       "      <th>expiration</th>\n",
       "      <th>right</th>\n",
       "      <th>imp_vol_ql</th>\n",
       "      <th>imp_vol_ib</th>\n",
       "      <th>mid_point</th>\n",
       "      <th>delta</th>\n",
       "      <th>gamma</th>\n",
       "      <th>vega</th>\n",
       "      <th>theta</th>\n",
       "    </tr>\n",
       "  </thead>\n",
       "  <tbody>\n",
       "    <tr>\n",
       "      <th>0</th>\n",
       "      <td>15550.0</td>\n",
       "      <td>20211217</td>\n",
       "      <td>C</td>\n",
       "      <td>0.173681</td>\n",
       "      <td>0</td>\n",
       "      <td>222.25</td>\n",
       "      <td>0.599861</td>\n",
       "      <td>0.000831</td>\n",
       "      <td>NaN</td>\n",
       "      <td>-4368.429827</td>\n",
       "    </tr>\n",
       "    <tr>\n",
       "      <th>3</th>\n",
       "      <td>15550.0</td>\n",
       "      <td>20211217</td>\n",
       "      <td>P</td>\n",
       "      <td>0.198901</td>\n",
       "      <td>0</td>\n",
       "      <td>134.50</td>\n",
       "      <td>-0.400053</td>\n",
       "      <td>0.000831</td>\n",
       "      <td>NaN</td>\n",
       "      <td>-4058.626427</td>\n",
       "    </tr>\n",
       "    <tr>\n",
       "      <th>1</th>\n",
       "      <td>15600.0</td>\n",
       "      <td>20211217</td>\n",
       "      <td>C</td>\n",
       "      <td>0.169487</td>\n",
       "      <td>0</td>\n",
       "      <td>189.50</td>\n",
       "      <td>0.557615</td>\n",
       "      <td>0.000849</td>\n",
       "      <td>NaN</td>\n",
       "      <td>-4452.243568</td>\n",
       "    </tr>\n",
       "    <tr>\n",
       "      <th>4</th>\n",
       "      <td>15600.0</td>\n",
       "      <td>20211217</td>\n",
       "      <td>P</td>\n",
       "      <td>0.193879</td>\n",
       "      <td>0</td>\n",
       "      <td>151.50</td>\n",
       "      <td>-0.442298</td>\n",
       "      <td>0.000849</td>\n",
       "      <td>NaN</td>\n",
       "      <td>-4140.941266</td>\n",
       "    </tr>\n",
       "    <tr>\n",
       "      <th>2</th>\n",
       "      <td>15650.0</td>\n",
       "      <td>20211217</td>\n",
       "      <td>C</td>\n",
       "      <td>0.164951</td>\n",
       "      <td>0</td>\n",
       "      <td>158.75</td>\n",
       "      <td>0.514837</td>\n",
       "      <td>0.000857</td>\n",
       "      <td>NaN</td>\n",
       "      <td>-4483.512454</td>\n",
       "    </tr>\n",
       "    <tr>\n",
       "      <th>5</th>\n",
       "      <td>15650.0</td>\n",
       "      <td>20211217</td>\n",
       "      <td>P</td>\n",
       "      <td>0.189360</td>\n",
       "      <td>0</td>\n",
       "      <td>171.00</td>\n",
       "      <td>-0.485076</td>\n",
       "      <td>0.000857</td>\n",
       "      <td>NaN</td>\n",
       "      <td>-4170.711279</td>\n",
       "    </tr>\n",
       "    <tr>\n",
       "      <th>6</th>\n",
       "      <td>15700.0</td>\n",
       "      <td>20211217</td>\n",
       "      <td>C</td>\n",
       "      <td>0.161159</td>\n",
       "      <td>0</td>\n",
       "      <td>131.25</td>\n",
       "      <td>0.472024</td>\n",
       "      <td>0.000856</td>\n",
       "      <td>NaN</td>\n",
       "      <td>-4461.261139</td>\n",
       "    </tr>\n",
       "    <tr>\n",
       "      <th>9</th>\n",
       "      <td>15700.0</td>\n",
       "      <td>20211217</td>\n",
       "      <td>P</td>\n",
       "      <td>0.185406</td>\n",
       "      <td>0</td>\n",
       "      <td>193.25</td>\n",
       "      <td>-0.527889</td>\n",
       "      <td>0.000856</td>\n",
       "      <td>NaN</td>\n",
       "      <td>-4146.961120</td>\n",
       "    </tr>\n",
       "    <tr>\n",
       "      <th>7</th>\n",
       "      <td>15750.0</td>\n",
       "      <td>20211217</td>\n",
       "      <td>C</td>\n",
       "      <td>0.157140</td>\n",
       "      <td>0</td>\n",
       "      <td>106.25</td>\n",
       "      <td>0.429669</td>\n",
       "      <td>0.000845</td>\n",
       "      <td>NaN</td>\n",
       "      <td>-4386.510570</td>\n",
       "    </tr>\n",
       "    <tr>\n",
       "      <th>10</th>\n",
       "      <td>15750.0</td>\n",
       "      <td>20211217</td>\n",
       "      <td>P</td>\n",
       "      <td>0.182441</td>\n",
       "      <td>0</td>\n",
       "      <td>218.75</td>\n",
       "      <td>-0.570243</td>\n",
       "      <td>0.000844</td>\n",
       "      <td>NaN</td>\n",
       "      <td>-4070.711736</td>\n",
       "    </tr>\n",
       "    <tr>\n",
       "      <th>8</th>\n",
       "      <td>15800.0</td>\n",
       "      <td>20211217</td>\n",
       "      <td>C</td>\n",
       "      <td>0.154435</td>\n",
       "      <td>0</td>\n",
       "      <td>85.25</td>\n",
       "      <td>0.388245</td>\n",
       "      <td>0.000824</td>\n",
       "      <td>NaN</td>\n",
       "      <td>-4262.189148</td>\n",
       "    </tr>\n",
       "    <tr>\n",
       "      <th>11</th>\n",
       "      <td>15800.0</td>\n",
       "      <td>20211217</td>\n",
       "      <td>P</td>\n",
       "      <td>0.180432</td>\n",
       "      <td>0</td>\n",
       "      <td>247.50</td>\n",
       "      <td>-0.611666</td>\n",
       "      <td>0.000824</td>\n",
       "      <td>NaN</td>\n",
       "      <td>-3944.891527</td>\n",
       "    </tr>\n",
       "  </tbody>\n",
       "</table>\n",
       "</div>"
      ],
      "text/plain": [
       "     strike expiration right  imp_vol_ql imp_vol_ib  mid_point     delta  \\\n",
       "0   15550.0   20211217     C    0.173681          0     222.25  0.599861   \n",
       "3   15550.0   20211217     P    0.198901          0     134.50 -0.400053   \n",
       "1   15600.0   20211217     C    0.169487          0     189.50  0.557615   \n",
       "4   15600.0   20211217     P    0.193879          0     151.50 -0.442298   \n",
       "2   15650.0   20211217     C    0.164951          0     158.75  0.514837   \n",
       "5   15650.0   20211217     P    0.189360          0     171.00 -0.485076   \n",
       "6   15700.0   20211217     C    0.161159          0     131.25  0.472024   \n",
       "9   15700.0   20211217     P    0.185406          0     193.25 -0.527889   \n",
       "7   15750.0   20211217     C    0.157140          0     106.25  0.429669   \n",
       "10  15750.0   20211217     P    0.182441          0     218.75 -0.570243   \n",
       "8   15800.0   20211217     C    0.154435          0      85.25  0.388245   \n",
       "11  15800.0   20211217     P    0.180432          0     247.50 -0.611666   \n",
       "\n",
       "       gamma  vega        theta  \n",
       "0   0.000831   NaN -4368.429827  \n",
       "3   0.000831   NaN -4058.626427  \n",
       "1   0.000849   NaN -4452.243568  \n",
       "4   0.000849   NaN -4140.941266  \n",
       "2   0.000857   NaN -4483.512454  \n",
       "5   0.000857   NaN -4170.711279  \n",
       "6   0.000856   NaN -4461.261139  \n",
       "9   0.000856   NaN -4146.961120  \n",
       "7   0.000845   NaN -4386.510570  \n",
       "10  0.000844   NaN -4070.711736  \n",
       "8   0.000824   NaN -4262.189148  \n",
       "11  0.000824   NaN -3944.891527  "
      ]
     },
     "execution_count": 23,
     "metadata": {},
     "output_type": "execute_result"
    }
   ],
   "source": [
    "imp_vol_df = imp_vol_df.sort_values(['strike', 'right'])\n",
    "imp_vol_df"
   ]
  },
  {
   "cell_type": "markdown",
   "id": "381c3dd3-314a-4423-8618-606b60dcfe86",
   "metadata": {},
   "source": [
    "# Implied vola curve"
   ]
  },
  {
   "cell_type": "code",
   "execution_count": 24,
   "id": "d5c60d77-caaf-4505-addb-0328f7034de1",
   "metadata": {
    "tags": []
   },
   "outputs": [
    {
     "name": "stderr",
     "output_type": "stream",
     "text": [
      "/home/ustaudinger/.local/lib/python3.7/site-packages/pandas/plotting/_matplotlib/tools.py:331: MatplotlibDeprecationWarning: \n",
      "The is_first_col function was deprecated in Matplotlib 3.4 and will be removed two minor releases later. Use ax.get_subplotspec().is_first_col() instead.\n",
      "  if ax.is_first_col():\n"
     ]
    },
    {
     "data": {
      "image/png": "[encoded data removed]",
      "text/plain": [
       "<Figure size 1440x360 with 2 Axes>"
      ]
     },
     "metadata": {
      "needs_background": "light"
     },
     "output_type": "display_data"
    },
    {
     "data": {
      "image/png": "[encoded data removed]",
      "text/plain": [
       "<Figure size 1440x360 with 2 Axes>"
      ]
     },
     "metadata": {
      "needs_background": "light"
     },
     "output_type": "display_data"
    },
    {
     "name": "stderr",
     "output_type": "stream",
     "text": [
      "Peer closed connection.\n"
     ]
    }
   ],
   "source": [
    "import matplotlib.pyplot as plt\n",
    "\n",
    "imp_vol_df.expiration = pd.Categorical(imp_vol_df.expiration)\n",
    "imp_vol_df['exp_code'] = imp_vol_df.expiration.cat.codes\n",
    "\n",
    "fig, ax = plt.subplots()\n",
    "imp_vol_df[imp_vol_df.right == 'P'].plot.scatter(x='strike', y='imp_vol_ql', c='exp_code', cmap=\"viridis\", figsize=(20,5), ax=ax, title='Put Vola').grid()\n",
    "\n",
    "fig, ax = plt.subplots()\n",
    "imp_vol_df[imp_vol_df.right == 'C'].plot.scatter(x='strike', y='imp_vol_ql', c='exp_code', cmap=\"viridis\", figsize=(20,5), ax=ax, title='Call Vola').grid()"
   ]
  },
  {
   "cell_type": "code",
   "execution_count": 20,
   "id": "e09d4c50-306a-4e35-a0f4-4b4813b538d8",
   "metadata": {},
   "outputs": [
    {
     "data": {
      "image/png": "[encoded data removed]",
      "text/plain": [
       "<Figure size 1440x360 with 2 Axes>"
      ]
     },
     "metadata": {
      "needs_background": "light"
     },
     "output_type": "display_data"
    },
    {
     "data": {
      "image/png": "[encoded data removed]",
      "text/plain": [
       "<Figure size 1440x360 with 2 Axes>"
      ]
     },
     "metadata": {
      "needs_background": "light"
     },
     "output_type": "display_data"
    }
   ],
   "source": [
    "import matplotlib.pyplot as plt\n",
    "\n",
    "imp_vol_df.expiration = pd.Categorical(imp_vol_df.expiration)\n",
    "imp_vol_df['exp_code'] = imp_vol_df.expiration.cat.codes\n",
    "\n",
    "fig, ax = plt.subplots()\n",
    "imp_vol_df[imp_vol_df.right == 'P'].plot.scatter(x='strike', y='delta', c='exp_code', cmap=\"viridis\", figsize=(20,5), ax=ax, title='Put Delta').grid()\n",
    "\n",
    "fig, ax = plt.subplots()\n",
    "imp_vol_df[imp_vol_df.right == 'C'].plot.scatter(x='strike', y='delta', c='exp_code', cmap=\"viridis\", figsize=(20,5), ax=ax, title='Call Delta').grid()"
   ]
  },
  {
   "cell_type": "code",
   "execution_count": 14,
   "id": "b01a68ba-eace-4622-bb82-9971076ade8b",
   "metadata": {},
   "outputs": [
    {
     "data": {
      "image/png": "[encoded data removed]",
      "text/plain": [
       "<Figure size 1440x360 with 2 Axes>"
      ]
     },
     "metadata": {
      "needs_background": "light"
     },
     "output_type": "display_data"
    },
    {
     "data": {
      "image/png": "[encoded data removed]",
      "text/plain": [
       "<Figure size 1440x360 with 2 Axes>"
      ]
     },
     "metadata": {
      "needs_background": "light"
     },
     "output_type": "display_data"
    }
   ],
   "source": [
    "import matplotlib.pyplot as plt\n",
    "\n",
    "imp_vol_df.expiration = pd.Categorical(imp_vol_df.expiration)\n",
    "imp_vol_df['exp_code'] = imp_vol_df.expiration.cat.codes\n",
    "\n",
    "fig, ax = plt.subplots()\n",
    "imp_vol_df[imp_vol_df.right == 'P'].plot.scatter(x='strike', y='mid_point', c='exp_code', cmap=\"viridis\", figsize=(20,5), ax=ax, title='Put mid').grid()\n",
    "\n",
    "fig, ax = plt.subplots()\n",
    "imp_vol_df[imp_vol_df.right == 'C'].plot.scatter(x='strike', y='mid_point', c='exp_code', cmap=\"viridis\", figsize=(20,5), ax=ax, title='Call mid').grid()"
   ]
  },
  {
   "cell_type": "code",
   "execution_count": 15,
   "id": "55b0d9f2-aef2-4ff9-a21f-159ecc91ba2d",
   "metadata": {},
   "outputs": [],
   "source": [
    "#ib.disconnect()"
   ]
  },
  {
   "cell_type": "code",
   "execution_count": null,
   "id": "31d908ad-813e-4b74-907b-10410c47b2e0",
   "metadata": {},
   "outputs": [],
   "source": []
  }
 ],
 "metadata": {
  "kernelspec": {
   "display_name": "Python 3 (ipykernel)",
   "language": "python",
   "name": "python3"
  },
  "language_info": {
   "codemirror_mode": {
    "name": "ipython",
    "version": 3
   },
   "file_extension": ".py",
   "mimetype": "text/x-python",
   "name": "python",
   "nbconvert_exporter": "python",
   "pygments_lexer": "ipython3",
   "version": "3.7.3"
  }
 },
 "nbformat": 4,
 "nbformat_minor": 5
}
